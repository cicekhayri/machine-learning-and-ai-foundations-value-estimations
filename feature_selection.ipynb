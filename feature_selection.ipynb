{
 "cells": [
  {
   "cell_type": "code",
   "execution_count": 5,
   "metadata": {},
   "outputs": [],
   "source": [
    "import joblib\n",
    "import numpy as np\n"
   ]
  },
  {
   "cell_type": "code",
   "execution_count": 6,
   "metadata": {},
   "outputs": [],
   "source": [
    "feature_labels = np.array(['year_built', 'stories', 'num_bedrooms', 'full_bathrooms', 'half_bathrooms', 'livable_sqft', 'total_sqft', 'garage_sqft', 'carport_sqft', 'has_fireplace', 'has_pool', 'has_central_heating', 'has_central_cooling', 'garage_type_attached', 'garage_type_detached', 'garage_type_none', 'city_Amystad', 'city_Brownport', 'city_Chadstad', 'city_Clarkberg', 'city_Coletown', 'city_Davidfort', 'city_Davidtown', 'city_East Amychester', 'city_East Janiceville', 'city_East Justin', 'city_East Lucas', 'city_Fosterberg', 'city_Hallfort', 'city_Jeffreyhaven', 'city_Jenniferberg', 'city_Joshuafurt', 'city_Julieberg', 'city_Justinport', 'city_Lake Carolyn', 'city_Lake Christinaport', 'city_Lake Dariusborough', 'city_Lake Jack', 'city_Lake Jennifer', 'city_Leahview', 'city_Lewishaven', 'city_Martinezfort', 'city_Morrisport', 'city_New Michele', 'city_New Robinton', 'city_North Erinville', 'city_Port Adamtown', 'city_Port Andrealand', 'city_Port Daniel', 'city_Port Jonathanborough', 'city_Richardport', 'city_Rickytown', 'city_Scottberg', 'city_South Anthony', 'city_South Stevenfurt', 'city_Toddshire', 'city_Wendybury', 'city_West Ann', 'city_West Brittanyview', 'city_West Gerald', 'city_West Gregoryview', 'city_West Lydia', 'city_West Terrence'])\n"
   ]
  },
  {
   "cell_type": "code",
   "execution_count": 7,
   "metadata": {},
   "outputs": [],
   "source": [
    "\n",
    "\n",
    "model = joblib.load(\"trained_house_classifier_model.pkl\")"
   ]
  },
  {
   "cell_type": "code",
   "execution_count": 8,
   "metadata": {},
   "outputs": [],
   "source": [
    "importance = model.feature_importances_"
   ]
  },
  {
   "cell_type": "code",
   "execution_count": 9,
   "metadata": {},
   "outputs": [],
   "source": [
    "feature_indexes_by_importance = importance.argsort()"
   ]
  },
  {
   "cell_type": "code",
   "execution_count": 10,
   "metadata": {},
   "outputs": [
    {
     "name": "stdout",
     "output_type": "stream",
     "text": [
      "city_Martinezfort - 0.00%\n",
      "city_Julieberg - 0.00%\n",
      "city_New Michele - 0.00%\n",
      "city_New Robinton - 0.00%\n",
      "city_Rickytown - 0.00%\n",
      "city_Davidtown - 0.00%\n",
      "city_West Terrence - 0.01%\n",
      "city_South Stevenfurt - 0.01%\n",
      "city_Lake Jennifer - 0.01%\n",
      "city_East Justin - 0.01%\n",
      "city_West Brittanyview - 0.01%\n",
      "city_Leahview - 0.02%\n",
      "city_Fosterberg - 0.02%\n",
      "city_Brownport - 0.02%\n",
      "city_Port Adamtown - 0.03%\n",
      "city_Toddshire - 0.03%\n",
      "city_Wendybury - 0.04%\n",
      "city_East Janiceville - 0.04%\n",
      "city_Amystad - 0.04%\n",
      "city_Port Daniel - 0.05%\n",
      "city_West Lydia - 0.07%\n",
      "city_Joshuafurt - 0.09%\n",
      "has_central_cooling - 0.11%\n",
      "city_Clarkberg - 0.11%\n",
      "city_Davidfort - 0.12%\n",
      "city_Port Jonathanborough - 0.15%\n",
      "garage_type_detached - 0.16%\n",
      "city_Lewishaven - 0.18%\n",
      "city_West Gerald - 0.19%\n",
      "city_Jenniferberg - 0.20%\n",
      "city_East Amychester - 0.20%\n",
      "city_Morrisport - 0.21%\n",
      "has_central_heating - 0.22%\n",
      "city_East Lucas - 0.27%\n",
      "city_Lake Dariusborough - 0.30%\n",
      "city_West Gregoryview - 0.32%\n",
      "city_Lake Carolyn - 0.38%\n",
      "city_North Erinville - 0.39%\n",
      "city_South Anthony - 0.40%\n",
      "city_West Ann - 0.45%\n",
      "city_Hallfort - 0.52%\n",
      "city_Justinport - 0.63%\n",
      "city_Richardport - 0.64%\n",
      "half_bathrooms - 0.71%\n",
      "city_Port Andrealand - 1.22%\n",
      "city_Scottberg - 1.28%\n",
      "city_Chadstad - 1.31%\n",
      "city_Lake Christinaport - 1.41%\n",
      "carport_sqft - 1.60%\n",
      "city_Lake Jack - 1.86%\n",
      "city_Jeffreyhaven - 3.08%\n",
      "num_bedrooms - 3.33%\n",
      "garage_type_attached - 3.52%\n",
      "garage_type_none - 3.56%\n",
      "stories - 3.67%\n",
      "has_fireplace - 3.95%\n",
      "city_Coletown - 4.36%\n",
      "year_built - 4.65%\n",
      "full_bathrooms - 6.09%\n",
      "has_pool - 8.07%\n",
      "garage_sqft - 9.63%\n",
      "livable_sqft - 10.75%\n",
      "total_sqft - 19.30%\n"
     ]
    }
   ],
   "source": [
    "for index in feature_indexes_by_importance:\n",
    "    print(\"{} - {:.2f}%\".format(feature_labels[index], (importance[index] * 100.0)))"
   ]
  }
 ],
 "metadata": {
  "kernelspec": {
   "display_name": ".venv",
   "language": "python",
   "name": "python3"
  },
  "language_info": {
   "codemirror_mode": {
    "name": "ipython",
    "version": 3
   },
   "file_extension": ".py",
   "mimetype": "text/x-python",
   "name": "python",
   "nbconvert_exporter": "python",
   "pygments_lexer": "ipython3",
   "version": "3.11.5"
  }
 },
 "nbformat": 4,
 "nbformat_minor": 2
}
