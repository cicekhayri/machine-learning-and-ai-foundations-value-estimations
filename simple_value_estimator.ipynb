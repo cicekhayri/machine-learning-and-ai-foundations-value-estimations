{
 "cells": [
  {
   "cell_type": "code",
   "execution_count": 1,
   "metadata": {},
   "outputs": [
    {
     "name": "stdout",
     "output_type": "stream",
     "text": [
      "Estimated valued:\n",
      "449600\n"
     ]
    }
   ],
   "source": [
    "def estimate_home_value(size_in_sqft, number_of_bedrooms):\n",
    "    value = 50000\n",
    "    value = value + (size_in_sqft * 92)\n",
    "    value =  value + (number_of_bedrooms * 10000)\n",
    "    return value\n",
    "\n",
    "value = estimate_home_value(3800, 5)\n",
    "\n",
    "print(\"Estimated valued:\")\n",
    "print(value)"
   ]
  },
  {
   "cell_type": "code",
   "execution_count": null,
   "metadata": {},
   "outputs": [],
   "source": []
  }
 ],
 "metadata": {
  "kernelspec": {
   "display_name": ".venv",
   "language": "python",
   "name": "python3"
  },
  "language_info": {
   "codemirror_mode": {
    "name": "ipython",
    "version": 3
   },
   "file_extension": ".py",
   "mimetype": "text/x-python",
   "name": "python",
   "nbconvert_exporter": "python",
   "pygments_lexer": "ipython3",
   "version": "3.11.5"
  }
 },
 "nbformat": 4,
 "nbformat_minor": 2
}
