{
 "cells": [
  {
   "cell_type": "code",
   "execution_count": 8,
   "metadata": {},
   "outputs": [],
   "source": [
    "import joblib"
   ]
  },
  {
   "cell_type": "code",
   "execution_count": 9,
   "metadata": {},
   "outputs": [],
   "source": [
    "model = joblib.load(\"trained_house_classifier_model.pkl\")"
   ]
  },
  {
   "cell_type": "code",
   "execution_count": 10,
   "metadata": {},
   "outputs": [],
   "source": [
    "house_to_value = [\n",
    "    # House features\n",
    "    1973,   # year_built\n",
    "    1,      # stories\n",
    "    4,      # num_bedrooms\n",
    "    3,      # full_bathrooms\n",
    "    0,      # half_bathrooms \n",
    "    2200,   # livable_sqft\n",
    "    2350,   # total_sqft\n",
    "    0,      # garage_sqft\n",
    "    0,      # carport_sqft\n",
    "    True,   # has_fireplace\n",
    "    False,  # has_pool\n",
    "    True,   # has_central_heating\n",
    "    True,   # has_central_cooling\n",
    "    \n",
    "    # Garage type: Choose only one\n",
    "    0,      # attached\n",
    "    0,      # detached\n",
    "    1,      # none\n",
    "    \n",
    "    # City: Choose only one\n",
    "    0,      # Amystad\n",
    "    1,      # Brownport\n",
    "    0,      # Chadstad\n",
    "    0,      # Clarkberg\n",
    "    0,      # Coletown\n",
    "    0,      # Davidfort\n",
    "    0,      # Davidtown\n",
    "    0,      # East Amychester\n",
    "    0,      # East Janiceville\n",
    "    0,      # East Justin\n",
    "    0,      # East Lucas\n",
    "    0,      # Fosterberg\n",
    "    0,      # Hallfort\n",
    "    0,      # Jeffreyhaven\n",
    "    0,      # Jenniferberg\n",
    "    0,      # Joshuafurt\n",
    "    0,      # Julieberg\n",
    "    0,      # Justinport\n",
    "    0,      # Lake Carolyn\n",
    "    0,      # Lake Christinaport\n",
    "    0,      # Lake Dariusborough\n",
    "    0,      # Lake Jack\n",
    "    0,      # Lake Jennifer\n",
    "    0,      # Leahview\n",
    "    0,      # Lewishaven\n",
    "    0,      # Martinezfort\n",
    "    0,      # Morrisport\n",
    "    0,      # New Michele\n",
    "    0,      # New Robinton\n",
    "    0,      # North Erinville\n",
    "    0,      # Port Adamtown\n",
    "    0,      # Port Andrealand\n",
    "    0,      # Port Daniel\n",
    "    0,      # Port Jonathanborough\n",
    "    0,      # Richardport\n",
    "    0,      # Rickytown\n",
    "    0,      # Scottberg\n",
    "    0,      # South Anthony\n",
    "    0,      # South Stevenfurt\n",
    "    0,      # Toddshire\n",
    "    0,      # Wendybury\n",
    "    0,      # West Ann\n",
    "    0,      # West Brittanyview\n",
    "    0,      # West Gerald\n",
    "    0,      # West Gregoryview\n",
    "    0,      # West Lydia\n",
    "    0       # West Terrence\n",
    "]"
   ]
  },
  {
   "cell_type": "code",
   "execution_count": 11,
   "metadata": {},
   "outputs": [],
   "source": [
    "homes_to_value = [\n",
    "    house_to_value\n",
    "]"
   ]
  },
  {
   "cell_type": "code",
   "execution_count": null,
   "metadata": {},
   "outputs": [],
   "source": [
    "predicted_home_values = model.predict(homes_to_value)"
   ]
  },
  {
   "cell_type": "code",
   "execution_count": 13,
   "metadata": {},
   "outputs": [],
   "source": [
    "predicted_value = predicted_home_values[0]"
   ]
  },
  {
   "cell_type": "code",
   "execution_count": 14,
   "metadata": {},
   "outputs": [
    {
     "name": "stdout",
     "output_type": "stream",
     "text": [
      "This house has an estimated value of $477,336.09\n"
     ]
    }
   ],
   "source": [
    "print(\"This house has an estimated value of ${:,.2f}\".format(predicted_value))"
   ]
  },
  {
   "cell_type": "code",
   "execution_count": null,
   "metadata": {},
   "outputs": [],
   "source": []
  }
 ],
 "metadata": {
  "kernelspec": {
   "display_name": ".venv",
   "language": "python",
   "name": "python3"
  },
  "language_info": {
   "codemirror_mode": {
    "name": "ipython",
    "version": 3
   },
   "file_extension": ".py",
   "mimetype": "text/x-python",
   "name": "python",
   "nbconvert_exporter": "python",
   "pygments_lexer": "ipython3",
   "version": "3.11.5"
  }
 },
 "nbformat": 4,
 "nbformat_minor": 2
}
